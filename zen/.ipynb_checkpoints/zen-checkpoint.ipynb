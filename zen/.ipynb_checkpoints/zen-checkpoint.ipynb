{
 "cells": [
  {
   "cell_type": "markdown",
   "metadata": {},
   "source": [
    "The code below creates a text file called `zen.txt`."
   ]
  },
  {
   "cell_type": "code",
   "execution_count": 1,
   "metadata": {},
   "outputs": [
    {
     "name": "stdout",
     "output_type": "stream",
     "text": [
      "The Zen of Python, by Tim Peters\n",
      "\n",
      "Beautiful is better than ugly.\n",
      "Explicit is better than implicit.\n",
      "Simple is better than complex.\n",
      "Complex is better than complicated.\n",
      "Flat is better than nested.\n",
      "Sparse is better than dense.\n",
      "Readability counts.\n",
      "Special cases aren't special enough to break the rules.\n",
      "Although practicality beats purity.\n",
      "Errors should never pass silently.\n",
      "Unless explicitly silenced.\n",
      "In the face of ambiguity, refuse the temptation to guess.\n",
      "There should be one-- and preferably only one --obvious way to do it.\n",
      "Although that way may not be obvious at first unless you're Dutch.\n",
      "Now is better than never.\n",
      "Although never is often better than *right* now.\n",
      "If the implementation is hard to explain, it's a bad idea.\n",
      "If the implementation is easy to explain, it may be a good idea.\n",
      "Namespaces are one honking great idea -- let's do more of those!\n"
     ]
    }
   ],
   "source": [
    "from this import s\n",
    "from codecs import decode\n",
    "with open('zen.txt', 'w') as f:\n",
    "    f.write(decode(s, \"rot-13\"))"
   ]
  },
  {
   "cell_type": "markdown",
   "metadata": {},
   "source": [
    "The standard approach to reading in files, as described in the [Python Tutorial](https://docs.python.org/3/tutorial/inputoutput.html#reading-and-writing-files)."
   ]
  },
  {
   "cell_type": "code",
   "execution_count": 2,
   "metadata": {},
   "outputs": [],
   "source": [
    "with open('zen.txt') as f:\n",
    "    my_list = [line for line in f]\n",
    "\n",
    "with open('zen.txt') as f:\n",
    "    my_string = f.readline()"
   ]
  },
  {
   "cell_type": "markdown",
   "metadata": {},
   "source": [
    "Obtain the first line."
   ]
  },
  {
   "cell_type": "code",
   "execution_count": 3,
   "metadata": {},
   "outputs": [
    {
     "data": {
      "text/plain": [
       "'The Zen of Python, by Tim Peters'"
      ]
     },
     "execution_count": 3,
     "metadata": {},
     "output_type": "execute_result"
    }
   ],
   "source": [
    "my_list[0]\n",
    "my_string.splitlines()[0]"
   ]
  },
  {
   "cell_type": "markdown",
   "metadata": {},
   "source": [
    "Define functions to read in text."
   ]
  },
  {
   "cell_type": "code",
   "execution_count": 4,
   "metadata": {},
   "outputs": [],
   "source": [
    "def read_list(file):\n",
    "    with open(file) as f:\n",
    "        return [line for line in f]\n",
    "\n",
    "def read_str(file):\n",
    "    with open(file) as f:\n",
    "        return f.read()"
   ]
  },
  {
   "cell_type": "markdown",
   "metadata": {},
   "source": [
    "Use functions to read in text."
   ]
  },
  {
   "cell_type": "code",
   "execution_count": 5,
   "metadata": {},
   "outputs": [],
   "source": [
    "my_list = read_list('zen.txt')\n",
    "\n",
    "my_string = read_str('zen.txt')"
   ]
  },
  {
   "cell_type": "markdown",
   "metadata": {},
   "source": [
    "Create a class to represent text files."
   ]
  },
  {
   "cell_type": "code",
   "execution_count": 6,
   "metadata": {},
   "outputs": [],
   "source": [
    "class TextFile:\n",
    "    def __init__(self, file: str) -> None:\n",
    "        self.file = file\n",
    "\n",
    "    def read(self) -> list:\n",
    "        with open(self.file) as f:\n",
    "            self.string = f.read()"
   ]
  },
  {
   "cell_type": "markdown",
   "metadata": {},
   "source": [
    "Create a class using dataclass decorator."
   ]
  },
  {
   "cell_type": "code",
   "execution_count": 9,
   "metadata": {},
   "outputs": [
    {
     "name": "stdout",
     "output_type": "stream",
     "text": [
      "Python 3.7.0\n"
     ]
    }
   ],
   "source": [
    "!python --version"
   ]
  },
  {
   "cell_type": "code",
   "execution_count": 12,
   "metadata": {},
   "outputs": [
    {
     "name": "stdout",
     "output_type": "stream",
     "text": [
      "Solving environment: done\n",
      "\n",
      "## Package Plan ##\n",
      "\n",
      "  environment location: /Users/marskar/miniconda3\n",
      "\n",
      "  added / updated specs: \n",
      "    - dataclasses\n",
      "\n",
      "\n",
      "The following packages will be downloaded:\n",
      "\n",
      "    package                    |            build\n",
      "    ---------------------------|-----------------\n",
      "    dataclasses-0.6            |             py_0          15 KB  conda-forge\n",
      "\n",
      "The following NEW packages will be INSTALLED:\n",
      "\n",
      "    dataclasses: 0.6-py_0 conda-forge\n",
      "\n",
      "\n",
      "Downloading and Extracting Packages\n",
      "dataclasses-0.6      |   15 KB | ####################################### | 100% \n",
      "Preparing transaction: done\n",
      "Verifying transaction: done\n",
      "Executing transaction: done\n"
     ]
    }
   ],
   "source": [
    "import sys\n",
    "!conda install -c conda-forge --yes --prefix {sys.prefix} dataclasses"
   ]
  },
  {
   "cell_type": "code",
   "execution_count": 15,
   "metadata": {},
   "outputs": [],
   "source": [
    "from dataclasses import dataclass\n",
    "@dataclass\n",
    "class TextFile:\n",
    "    file: str\n",
    "\n",
    "    def read(self) -> list:\n",
    "        with open(self.file) as f:\n",
    "            self.string = f.read()"
   ]
  },
  {
   "cell_type": "markdown",
   "metadata": {},
   "source": [
    "Test the `TextFile` class."
   ]
  },
  {
   "cell_type": "code",
   "execution_count": 16,
   "metadata": {},
   "outputs": [
    {
     "data": {
      "text/plain": [
       "'The Zen of Python, by Tim Peters'"
      ]
     },
     "execution_count": 16,
     "metadata": {},
     "output_type": "execute_result"
    }
   ],
   "source": [
    "zen = TextFile('zen.txt')\n",
    "zen.read()\n",
    "zen.string.splitlines()[0]"
   ]
  },
  {
   "cell_type": "markdown",
   "metadata": {},
   "source": [
    "The `TextFile` [class] is able to represent any text file, while the `zen` [instance] represents one particular text file, `zen.txt`. By instantiating `zen`, we store a filename in the `zen.file` [instance attribute]. The `read` [instance method] then uses `zen.file` to store the contents of `zen.txt` in `zen.file`.\n",
    "\n",
    "The `zen.text` instance attribute does not exist before calling the `read` instance method. Trying to access a non-existent attribute will raise an `AttributeError`. By creating `zen.text`, `read` is changing `zen`'s *state*.\n",
    "\n",
    "-> *Coding Challenge* <-\n",
    "\n",
    "Inside the `TextFile` class definition,\n",
    "\n",
    "1. Assign the value `0` to a new variable called `count` \n",
    "2. Edit the `read` method to [[increment]] `count` upon use. \n",
    "3. Add a method called `reset` that [[delete]]s `self.text` and [[decrement]]s `count`.\n",
    "4. Test whether `count` changes as you `read` and `reset` text files!\n",
    "\n",
    "Create a class to represent text files."
   ]
  },
  {
   "cell_type": "code",
   "execution_count": null,
   "metadata": {},
   "outputs": [],
   "source": [
    "class TextFile:\n",
    "    count = 0\n",
    "    def __init__(self, file: str) -> None:\n",
    "        self.file = file\n",
    "\n",
    "    def read(self) -> list:\n",
    "        with open(self.file) as f:\n",
    "            self.string = f.read()\n",
    "        TextFile.count += 1\n",
    "\n",
    "    def reset(self) -> None:\n",
    "        del self.string\n",
    "        TextFile.count -= 1"
   ]
  },
  {
   "cell_type": "markdown",
   "metadata": {},
   "source": [
    "Create a class using dataclass decorator."
   ]
  },
  {
   "cell_type": "code",
   "execution_count": null,
   "metadata": {},
   "outputs": [],
   "source": [
    "@dataclass\n",
    "class TextFile:\n",
    "    count = 0\n",
    "    filename: str\n",
    "\n",
    "    def read(self) -> list:\n",
    "        with open(self.file) as f:\n",
    "            self.string = f.read()\n",
    "        TextFile.count += 1\n",
    "\n",
    "    def reset(self) -> None:\n",
    "        del self.string\n",
    "        TextFile.count -= 1"
   ]
  },
  {
   "cell_type": "markdown",
   "metadata": {},
   "source": [
    "Test the `TextFile` class."
   ]
  },
  {
   "cell_type": "code",
   "execution_count": null,
   "metadata": {},
   "outputs": [],
   "source": [
    "zen = TextFile('zen.txt')\n",
    "TextFile.count\n",
    "zen.read()\n",
    "TextFile.count\n",
    "zen.string.splitlines()[0]\n",
    "zen.reset()\n",
    "TextFile.count"
   ]
  }
 ],
 "metadata": {
  "kernelspec": {
   "display_name": "Python 3",
   "language": "python",
   "name": "python3"
  },
  "language_info": {
   "codemirror_mode": {
    "name": "ipython",
    "version": 3
   },
   "file_extension": ".py",
   "mimetype": "text/x-python",
   "name": "python",
   "nbconvert_exporter": "python",
   "pygments_lexer": "ipython3",
   "version": "3.6.5"
  }
 },
 "nbformat": 4,
 "nbformat_minor": 2
}
